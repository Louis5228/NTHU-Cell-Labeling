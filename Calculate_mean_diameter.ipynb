{
  "nbformat": 4,
  "nbformat_minor": 0,
  "metadata": {
    "colab": {
      "name": "Calculate mean radius.ipynb",
      "provenance": [],
      "collapsed_sections": [],
      "authorship_tag": "ABX9TyPOPcAHRlxeby4g8PlUne79",
      "include_colab_link": true
    },
    "kernelspec": {
      "name": "python3",
      "display_name": "Python 3"
    }
  },
  "cells": [
    {
      "cell_type": "markdown",
      "metadata": {
        "id": "view-in-github",
        "colab_type": "text"
      },
      "source": [
        "<a href=\"https://colab.research.google.com/github/Louis5228/NTHU-Cell-Labeling/blob/main/Calculate_mean_diameter.ipynb\" target=\"_parent\"><img src=\"https://colab.research.google.com/assets/colab-badge.svg\" alt=\"Open In Colab\"/></a>"
      ]
    },
    {
      "cell_type": "code",
      "metadata": {
        "id": "zUVV0iHaq1Al"
      },
      "source": [
        "import os\n",
        "from google.colab import drive\n",
        "import numpy as np\n",
        "import json\n",
        "import csv\n",
        "import math\n",
        "drive.mount('/content/gdrive')"
      ],
      "execution_count": null,
      "outputs": []
    },
    {
      "cell_type": "code",
      "metadata": {
        "id": "XeJHkgBShqmF"
      },
      "source": [
        "output_path = '/content/gdrive/My Drive/Cell_Label/YQT38-20201224T062916Z-001/YQT38/jpg/1208.csv'\n",
        "with open(output_path, 'w') as csvfile:\n",
        "  writer = csv.writer(csvfile)\n",
        "  writer.writerow(['Image name', 'Mean', 'Std'])"
      ],
      "execution_count": null,
      "outputs": []
    },
    {
      "cell_type": "code",
      "metadata": {
        "id": "He4SOdCStbqq"
      },
      "source": [
        "for i in range(8,10):\n",
        "  # Load the json file\n",
        "  file_name = 'YQT38_i00'+str(i)\n",
        "  input_path = f'/content/gdrive/My Drive/Cell_Label/YQT38-20201224T062916Z-001/YQT38/jpg/1208_jpg/{file_name}.json'\n",
        "  with open(input_path, 'r') as f:\n",
        "    data = json.load(f)\n",
        "\n",
        "  # Calculate how many cells are labeled\n",
        "  cell_num = len(data[\"shapes\"])\n",
        "\n",
        "  radius_list = []\n",
        "  for N in range(cell_num):\n",
        "    # Get label points for each cell\n",
        "    label_points = np.array(data[\"shapes\"][N][\"points\"])\n",
        "    # Find a minimum bounding box\n",
        "    x_max, y_max = np.max(label_points, axis=0)\n",
        "    x_min, y_min = np.min(label_points, axis=0)\n",
        "    # Calculate ellipse area\n",
        "    a, b = (x_max - x_min), (y_max - y_min)\n",
        "    area_ellipse = math.pi * a * b\n",
        "    # Calculate mean radius for each cell\n",
        "    r = math.sqrt(area_ellipse / math.pi)\n",
        "    \n",
        "    radius_list.append(r)\n",
        "\n",
        "  # Calculate mean radius\n",
        "  mean_radius = sum(radius_list) / len(radius_list)\n",
        "  # Calculate standard deviation\n",
        "  variance = sum([((r - mean_radius) ** 2) for r in radius_list]) / len(radius_list)\n",
        "  std = variance ** 0.5\n",
        "  \n",
        "  # Add data to csv file\n",
        "  with open(output_path, '+a') as csvfile:\n",
        "    writer = csv.writer(csvfile)\n",
        "    writer.writerow([file_name, mean_radius, std])"
      ],
      "execution_count": null,
      "outputs": []
    }
  ]
}